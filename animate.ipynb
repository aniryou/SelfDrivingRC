{
 "cells": [
  {
   "cell_type": "code",
   "execution_count": 1,
   "metadata": {
    "collapsed": true
   },
   "outputs": [],
   "source": [
    "%matploblib inline"
   ]
  },
  {
   "cell_type": "code",
   "execution_count": 2,
   "metadata": {
    "collapsed": true
   },
   "outputs": [],
   "source": [
    "import os\n",
    "from shutil import copyfile, rmtree\n",
    "import numpy as np\n",
    "import pandas as pd"
   ]
  },
  {
   "cell_type": "code",
   "execution_count": 3,
   "metadata": {
    "collapsed": true
   },
   "outputs": [],
   "source": [
    "ROOT_DIR = 'traindata_raw'"
   ]
  },
  {
   "cell_type": "code",
   "execution_count": 4,
   "metadata": {
    "collapsed": true
   },
   "outputs": [],
   "source": [
    "df = pd.read_fwf(\"traindata_raw/ls.txt\", header=None, parse_dates=[[5,6]])"
   ]
  },
  {
   "cell_type": "code",
   "execution_count": 5,
   "metadata": {
    "collapsed": false
   },
   "outputs": [],
   "source": [
    "df = df[['5_6', 8]]"
   ]
  },
  {
   "cell_type": "code",
   "execution_count": 6,
   "metadata": {
    "collapsed": false
   },
   "outputs": [
    {
     "data": {
      "text/html": [
       "<div>\n",
       "<style scoped>\n",
       "    .dataframe tbody tr th:only-of-type {\n",
       "        vertical-align: middle;\n",
       "    }\n",
       "\n",
       "    .dataframe tbody tr th {\n",
       "        vertical-align: top;\n",
       "    }\n",
       "\n",
       "    .dataframe thead th {\n",
       "        text-align: right;\n",
       "    }\n",
       "</style>\n",
       "<table border=\"1\" class=\"dataframe\">\n",
       "  <thead>\n",
       "    <tr style=\"text-align: right;\">\n",
       "      <th></th>\n",
       "      <th>5_6</th>\n",
       "      <th>8</th>\n",
       "    </tr>\n",
       "  </thead>\n",
       "  <tbody>\n",
       "    <tr>\n",
       "      <th>0</th>\n",
       "      <td>2018-01-23 13:38:53.291493678</td>\n",
       "      <td>traindata/0000de19e9884c5da9653431d993f68e.jpg</td>\n",
       "    </tr>\n",
       "    <tr>\n",
       "      <th>1</th>\n",
       "      <td>2018-01-27 12:55:09.268084268</td>\n",
       "      <td>traindata/00094b84bd7041f69e86438840aa0fd5.jpg</td>\n",
       "    </tr>\n",
       "    <tr>\n",
       "      <th>2</th>\n",
       "      <td>2018-01-23 13:19:47.332931328</td>\n",
       "      <td>traindata/0009cf38cb104cb19d548c89a3e15070.jpg</td>\n",
       "    </tr>\n",
       "    <tr>\n",
       "      <th>3</th>\n",
       "      <td>2018-01-23 13:40:39.031361015</td>\n",
       "      <td>traindata/000fd23f8c5c42f69760f615e5db88e1.jpg</td>\n",
       "    </tr>\n",
       "    <tr>\n",
       "      <th>4</th>\n",
       "      <td>2018-01-27 12:51:26.078418871</td>\n",
       "      <td>traindata/00118a9d61894582875dbccb60d856b5.jpg</td>\n",
       "    </tr>\n",
       "  </tbody>\n",
       "</table>\n",
       "</div>"
      ],
      "text/plain": [
       "                            5_6  \\\n",
       "0 2018-01-23 13:38:53.291493678   \n",
       "1 2018-01-27 12:55:09.268084268   \n",
       "2 2018-01-23 13:19:47.332931328   \n",
       "3 2018-01-23 13:40:39.031361015   \n",
       "4 2018-01-27 12:51:26.078418871   \n",
       "\n",
       "                                                8  \n",
       "0  traindata/0000de19e9884c5da9653431d993f68e.jpg  \n",
       "1  traindata/00094b84bd7041f69e86438840aa0fd5.jpg  \n",
       "2  traindata/0009cf38cb104cb19d548c89a3e15070.jpg  \n",
       "3  traindata/000fd23f8c5c42f69760f615e5db88e1.jpg  \n",
       "4  traindata/00118a9d61894582875dbccb60d856b5.jpg  "
      ]
     },
     "execution_count": 6,
     "metadata": {},
     "output_type": "execute_result"
    }
   ],
   "source": [
    "df.head()"
   ]
  },
  {
   "cell_type": "code",
   "execution_count": 7,
   "metadata": {
    "collapsed": false
   },
   "outputs": [],
   "source": [
    "df.columns = ['datetime', 'path_img']"
   ]
  },
  {
   "cell_type": "code",
   "execution_count": 8,
   "metadata": {
    "collapsed": true
   },
   "outputs": [],
   "source": [
    "df['path_img'] = df['path_img'].apply(lambda x: os.path.join(ROOT_DIR, x.split('/')[1]))"
   ]
  },
  {
   "cell_type": "code",
   "execution_count": 9,
   "metadata": {
    "collapsed": false
   },
   "outputs": [],
   "source": [
    "df['datetime'] = pd.to_datetime(df['datetime'])"
   ]
  },
  {
   "cell_type": "code",
   "execution_count": 11,
   "metadata": {
    "collapsed": false
   },
   "outputs": [],
   "source": [
    "df.sort_values(by=['datetime'], inplace=True)"
   ]
  },
  {
   "cell_type": "code",
   "execution_count": 12,
   "metadata": {
    "collapsed": false
   },
   "outputs": [],
   "source": [
    "df['seconds_from_prev'] = (df['datetime'] - df['datetime'].shift(1)).dt.total_seconds()"
   ]
  },
  {
   "cell_type": "code",
   "execution_count": 13,
   "metadata": {
    "collapsed": false
   },
   "outputs": [
    {
     "data": {
      "text/html": [
       "<div>\n",
       "<style scoped>\n",
       "    .dataframe tbody tr th:only-of-type {\n",
       "        vertical-align: middle;\n",
       "    }\n",
       "\n",
       "    .dataframe tbody tr th {\n",
       "        vertical-align: top;\n",
       "    }\n",
       "\n",
       "    .dataframe thead th {\n",
       "        text-align: right;\n",
       "    }\n",
       "</style>\n",
       "<table border=\"1\" class=\"dataframe\">\n",
       "  <thead>\n",
       "    <tr style=\"text-align: right;\">\n",
       "      <th></th>\n",
       "      <th>datetime</th>\n",
       "      <th>path_img</th>\n",
       "      <th>seconds_from_prev</th>\n",
       "    </tr>\n",
       "  </thead>\n",
       "  <tbody>\n",
       "    <tr>\n",
       "      <th>9967</th>\n",
       "      <td>2018-01-17 17:52:19.756352384</td>\n",
       "      <td>traindata_raw/a3d795e2cf68449ba36e71b5715aaaba...</td>\n",
       "      <td>NaN</td>\n",
       "    </tr>\n",
       "    <tr>\n",
       "      <th>3781</th>\n",
       "      <td>2018-01-17 17:53:20.057303596</td>\n",
       "      <td>traindata_raw/3e427666742b4d03a460480d2db795ca...</td>\n",
       "      <td>60.300951</td>\n",
       "    </tr>\n",
       "    <tr>\n",
       "      <th>12085</th>\n",
       "      <td>2018-01-17 17:53:21.257250053</td>\n",
       "      <td>traindata_raw/c76f5be6591f4d7b8ee7d04f0694720e...</td>\n",
       "      <td>1.199946</td>\n",
       "    </tr>\n",
       "    <tr>\n",
       "      <th>5310</th>\n",
       "      <td>2018-01-17 17:53:22.767184935</td>\n",
       "      <td>traindata_raw/58c4af7195b742f784052456bb746888...</td>\n",
       "      <td>1.509935</td>\n",
       "    </tr>\n",
       "    <tr>\n",
       "      <th>8649</th>\n",
       "      <td>2018-01-17 17:53:24.197125598</td>\n",
       "      <td>traindata_raw/8e643d52dfd84f6382800fb85046f8e7...</td>\n",
       "      <td>1.429941</td>\n",
       "    </tr>\n",
       "  </tbody>\n",
       "</table>\n",
       "</div>"
      ],
      "text/plain": [
       "                           datetime  \\\n",
       "9967  2018-01-17 17:52:19.756352384   \n",
       "3781  2018-01-17 17:53:20.057303596   \n",
       "12085 2018-01-17 17:53:21.257250053   \n",
       "5310  2018-01-17 17:53:22.767184935   \n",
       "8649  2018-01-17 17:53:24.197125598   \n",
       "\n",
       "                                                path_img  seconds_from_prev  \n",
       "9967   traindata_raw/a3d795e2cf68449ba36e71b5715aaaba...                NaN  \n",
       "3781   traindata_raw/3e427666742b4d03a460480d2db795ca...          60.300951  \n",
       "12085  traindata_raw/c76f5be6591f4d7b8ee7d04f0694720e...           1.199946  \n",
       "5310   traindata_raw/58c4af7195b742f784052456bb746888...           1.509935  \n",
       "8649   traindata_raw/8e643d52dfd84f6382800fb85046f8e7...           1.429941  "
      ]
     },
     "execution_count": 13,
     "metadata": {},
     "output_type": "execute_result"
    }
   ],
   "source": [
    "df.head()"
   ]
  },
  {
   "cell_type": "code",
   "execution_count": 14,
   "metadata": {
    "collapsed": true
   },
   "outputs": [],
   "source": [
    "df['session'] = 0"
   ]
  },
  {
   "cell_type": "code",
   "execution_count": 15,
   "metadata": {
    "collapsed": false
   },
   "outputs": [],
   "source": [
    "df.loc[df.seconds_from_prev > 2 * 60, 'session'] = 1"
   ]
  },
  {
   "cell_type": "code",
   "execution_count": 16,
   "metadata": {
    "collapsed": false
   },
   "outputs": [],
   "source": [
    "df['session'] = df['session'].cumsum()\n",
    "df['seq'] = df.groupby('session')['datetime'].rank().astype(int)\n",
    "df['seq'] = df['seq'].apply(lambda x: 'image%05d.jpg' % x)"
   ]
  },
  {
   "cell_type": "code",
   "execution_count": 17,
   "metadata": {
    "collapsed": false,
    "scrolled": true
   },
   "outputs": [
    {
     "data": {
      "text/html": [
       "<div>\n",
       "<style scoped>\n",
       "    .dataframe tbody tr th:only-of-type {\n",
       "        vertical-align: middle;\n",
       "    }\n",
       "\n",
       "    .dataframe tbody tr th {\n",
       "        vertical-align: top;\n",
       "    }\n",
       "\n",
       "    .dataframe thead th {\n",
       "        text-align: right;\n",
       "    }\n",
       "</style>\n",
       "<table border=\"1\" class=\"dataframe\">\n",
       "  <thead>\n",
       "    <tr style=\"text-align: right;\">\n",
       "      <th></th>\n",
       "      <th>datetime</th>\n",
       "      <th>path_img</th>\n",
       "      <th>seconds_from_prev</th>\n",
       "      <th>session</th>\n",
       "      <th>seq</th>\n",
       "    </tr>\n",
       "  </thead>\n",
       "  <tbody>\n",
       "    <tr>\n",
       "      <th>386</th>\n",
       "      <td>2018-01-27 13:21:27.211498320</td>\n",
       "      <td>traindata_raw/05ede3814d72412e868330cf8448e7f1...</td>\n",
       "      <td>0.839997</td>\n",
       "      <td>17</td>\n",
       "      <td>image00883.jpg</td>\n",
       "    </tr>\n",
       "    <tr>\n",
       "      <th>5868</th>\n",
       "      <td>2018-01-27 13:21:28.011495792</td>\n",
       "      <td>traindata_raw/61977714bf1c437da1ab9578f01c506d...</td>\n",
       "      <td>0.799997</td>\n",
       "      <td>17</td>\n",
       "      <td>image00884.jpg</td>\n",
       "    </tr>\n",
       "    <tr>\n",
       "      <th>13461</th>\n",
       "      <td>2018-01-27 13:21:29.011492633</td>\n",
       "      <td>traindata_raw/de3be6aa3c084016ae1e9a827d814c9d...</td>\n",
       "      <td>0.999997</td>\n",
       "      <td>17</td>\n",
       "      <td>image00885.jpg</td>\n",
       "    </tr>\n",
       "    <tr>\n",
       "      <th>9453</th>\n",
       "      <td>2018-01-27 13:21:30.111489160</td>\n",
       "      <td>traindata_raw/9b6f7e9a9ea04dd09a32f870329e8041...</td>\n",
       "      <td>1.099997</td>\n",
       "      <td>17</td>\n",
       "      <td>image00886.jpg</td>\n",
       "    </tr>\n",
       "    <tr>\n",
       "      <th>4124</th>\n",
       "      <td>2018-01-27 13:21:31.251485563</td>\n",
       "      <td>traindata_raw/445356394493430fb5f155350e45c0eb...</td>\n",
       "      <td>1.139996</td>\n",
       "      <td>17</td>\n",
       "      <td>image00887.jpg</td>\n",
       "    </tr>\n",
       "  </tbody>\n",
       "</table>\n",
       "</div>"
      ],
      "text/plain": [
       "                           datetime  \\\n",
       "386   2018-01-27 13:21:27.211498320   \n",
       "5868  2018-01-27 13:21:28.011495792   \n",
       "13461 2018-01-27 13:21:29.011492633   \n",
       "9453  2018-01-27 13:21:30.111489160   \n",
       "4124  2018-01-27 13:21:31.251485563   \n",
       "\n",
       "                                                path_img  seconds_from_prev  \\\n",
       "386    traindata_raw/05ede3814d72412e868330cf8448e7f1...           0.839997   \n",
       "5868   traindata_raw/61977714bf1c437da1ab9578f01c506d...           0.799997   \n",
       "13461  traindata_raw/de3be6aa3c084016ae1e9a827d814c9d...           0.999997   \n",
       "9453   traindata_raw/9b6f7e9a9ea04dd09a32f870329e8041...           1.099997   \n",
       "4124   traindata_raw/445356394493430fb5f155350e45c0eb...           1.139996   \n",
       "\n",
       "       session             seq  \n",
       "386         17  image00883.jpg  \n",
       "5868        17  image00884.jpg  \n",
       "13461       17  image00885.jpg  \n",
       "9453        17  image00886.jpg  \n",
       "4124        17  image00887.jpg  "
      ]
     },
     "execution_count": 17,
     "metadata": {},
     "output_type": "execute_result"
    }
   ],
   "source": [
    "df.tail()"
   ]
  },
  {
   "cell_type": "code",
   "execution_count": 18,
   "metadata": {
    "collapsed": true
   },
   "outputs": [],
   "source": [
    "def save_sess(df_sess, overwrite=False):\n",
    "    session = df_sess['session'].iloc[0]\n",
    "    sess_dir = 'traindata_raw/sessions/{0}'.format(session)\n",
    "    if os.path.isdir(sess_dir):\n",
    "        if overwrite:\n",
    "            rmtree(sess_dir)\n",
    "            os.mkdir(sess_dir)\n",
    "    else:\n",
    "        os.mkdir(sess_dir)\n",
    "    print(\"Writing to %s\" % sess_dir)\n",
    "    df_sess[['path_img', 'seq']].apply(lambda x: copyfile(x['path_img'], os.path.join(sess_dir, x['seq'])), axis=1)\n",
    "    return sess_dir"
   ]
  },
  {
   "cell_type": "code",
   "execution_count": 19,
   "metadata": {
    "collapsed": false
   },
   "outputs": [
    {
     "name": "stdout",
     "output_type": "stream",
     "text": [
      "Writing to traindata_raw/sessions/0\n",
      "Writing to traindata_raw/sessions/0\n",
      "Writing to traindata_raw/sessions/1\n",
      "Writing to traindata_raw/sessions/2\n",
      "Writing to traindata_raw/sessions/3\n",
      "Writing to traindata_raw/sessions/4\n",
      "Writing to traindata_raw/sessions/5\n",
      "Writing to traindata_raw/sessions/6\n",
      "Writing to traindata_raw/sessions/7\n",
      "Writing to traindata_raw/sessions/8\n",
      "Writing to traindata_raw/sessions/9\n",
      "Writing to traindata_raw/sessions/10\n",
      "Writing to traindata_raw/sessions/11\n",
      "Writing to traindata_raw/sessions/12\n",
      "Writing to traindata_raw/sessions/13\n",
      "Writing to traindata_raw/sessions/14\n",
      "Writing to traindata_raw/sessions/15\n",
      "Writing to traindata_raw/sessions/16\n",
      "Writing to traindata_raw/sessions/17\n"
     ]
    }
   ],
   "source": [
    "dirs = df.groupby('session').apply(lambda x: save_sess(x, overwrite=True))"
   ]
  },
  {
   "cell_type": "code",
   "execution_count": 20,
   "metadata": {
    "collapsed": true
   },
   "outputs": [],
   "source": [
    "import subprocess"
   ]
  },
  {
   "cell_type": "code",
   "execution_count": 21,
   "metadata": {
    "collapsed": false
   },
   "outputs": [
    {
     "name": "stdout",
     "output_type": "stream",
     "text": [
      "traindata_raw/sessions/0\n",
      "traindata_raw/sessions/1\n",
      "traindata_raw/sessions/2\n",
      "traindata_raw/sessions/3\n",
      "traindata_raw/sessions/4\n",
      "traindata_raw/sessions/5\n",
      "traindata_raw/sessions/6\n",
      "traindata_raw/sessions/7\n",
      "traindata_raw/sessions/8\n",
      "traindata_raw/sessions/9\n",
      "traindata_raw/sessions/10\n",
      "traindata_raw/sessions/11\n",
      "traindata_raw/sessions/12\n",
      "traindata_raw/sessions/13\n",
      "traindata_raw/sessions/14\n",
      "traindata_raw/sessions/15\n",
      "traindata_raw/sessions/16\n",
      "traindata_raw/sessions/17\n"
     ]
    }
   ],
   "source": [
    "for d in dirs:\n",
    "    print(d)\n",
    "    subprocess.Popen(\"/usr/local/bin/ffmpeg -f image2 -r 50 -i {dir}/image%05d.jpg -vcodec mpeg4 -y {dir}/movie.mp4\".format(dir=d), shell=True)"
   ]
  },
  {
   "cell_type": "code",
   "execution_count": 22,
   "metadata": {
    "collapsed": false
   },
   "outputs": [
    {
     "name": "stdout",
     "output_type": "stream",
     "text": [
      "Populating the interactive namespace from numpy and matplotlib\n"
     ]
    }
   ],
   "source": [
    "%pylab inline \n",
    "import cv2"
   ]
  },
  {
   "cell_type": "code",
   "execution_count": 23,
   "metadata": {
    "collapsed": false
   },
   "outputs": [],
   "source": [
    "from IPython.display import clear_output"
   ]
  },
  {
   "cell_type": "code",
   "execution_count": 24,
   "metadata": {
    "collapsed": false,
    "scrolled": true
   },
   "outputs": [],
   "source": [
    "def display_video(vidfile, frames=10):\n",
    "    # Grab the input device, in this case the webcam\n",
    "    # You can also give path to the video file\n",
    "    vid = cv2.VideoCapture(vidfile)\n",
    "\n",
    "    # Put the code in try-except statements\n",
    "    # Catch the keyboard exception and \n",
    "    # release the camera device and \n",
    "    # continue with the rest of code.\n",
    "    try:\n",
    "        for _ in range(frames):\n",
    "            # Capture frame-by-frame\n",
    "            ret, frame = vid.read()\n",
    "            if not ret:\n",
    "                # Release the Video Device if ret is false\n",
    "                vid.release()\n",
    "                # Message to be displayed after releasing the device\n",
    "                print \"Released Video Resource\"\n",
    "                break\n",
    "            # Convert the image from OpenCV BGR format to matplotlib RGB format\n",
    "            # to display the image\n",
    "            frame = cv2.cvtColor(frame, cv2.COLOR_BGR2RGB)\n",
    "            # Turn off the axis\n",
    "            axis('off')\n",
    "            # Title of the window\n",
    "            title(\"Input Stream\")\n",
    "            # Display the frame\n",
    "            imshow(frame)\n",
    "            show()\n",
    "            # Display the frame until new frame is available\n",
    "            clear_output(wait=True)\n",
    "    except KeyboardInterrupt:\n",
    "        # Release the Video Device\n",
    "        vid.release()\n",
    "        # Message to be displayed after releasing the device\n",
    "        print \"Released Video Resource\""
   ]
  },
  {
   "cell_type": "code",
   "execution_count": 28,
   "metadata": {
    "collapsed": false
   },
   "outputs": [
    {
     "name": "stdout",
     "output_type": "stream",
     "text": [
      "Released Video Resource\n"
     ]
    }
   ],
   "source": [
    "display_video(\"traindata_raw/sessions/17/movie.mp4\", frames=1000)"
   ]
  },
  {
   "cell_type": "code",
   "execution_count": null,
   "metadata": {
    "collapsed": true
   },
   "outputs": [],
   "source": []
  }
 ],
 "metadata": {
  "kernelspec": {
   "display_name": "Python 2",
   "language": "python",
   "name": "python2"
  },
  "language_info": {
   "codemirror_mode": {
    "name": "ipython",
    "version": 2
   },
   "file_extension": ".py",
   "mimetype": "text/x-python",
   "name": "python",
   "nbconvert_exporter": "python",
   "pygments_lexer": "ipython2",
   "version": "2.7.12"
  }
 },
 "nbformat": 4,
 "nbformat_minor": 0
}
